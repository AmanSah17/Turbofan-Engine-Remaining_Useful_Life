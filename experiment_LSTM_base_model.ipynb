{
 "cells": [
  {
   "cell_type": "code",
   "execution_count": null,
   "id": "d4e5fc4a",
   "metadata": {},
   "outputs": [],
   "source": []
  },
  {
   "cell_type": "code",
   "execution_count": null,
   "id": "7ed2169b",
   "metadata": {},
   "outputs": [],
   "source": []
  },
  {
   "cell_type": "code",
   "execution_count": null,
   "id": "d23b8b30",
   "metadata": {},
   "outputs": [],
   "source": []
  },
  {
   "cell_type": "code",
   "execution_count": null,
   "id": "fb29819f",
   "metadata": {},
   "outputs": [],
   "source": []
  },
  {
   "cell_type": "code",
   "execution_count": null,
   "id": "03753aed",
   "metadata": {},
   "outputs": [],
   "source": [
    "from tensorflow.keras.models import Sequential"
   ]
  },
  {
   "cell_type": "code",
   "execution_count": null,
   "id": "5e5dd081",
   "metadata": {},
   "outputs": [
    {
     "name": "stdout",
     "output_type": "stream",
     "text": [
      "📥 Loading data...\n",
      "🔁 Creating sequences...\n",
      "✅ Input shape to LSTM: (17731, 30, 24)\n",
      "✅ Target shape: (17731, 1)\n"
     ]
    },
    {
     "name": "stderr",
     "output_type": "stream",
     "text": [
      "d:\\turbofan_RUL\\Turbofan-Engine-Remaining_Useful_Life\\tf_rul\\lib\\site-packages\\keras\\src\\layers\\rnn\\rnn.py:199: UserWarning: Do not pass an `input_shape`/`input_dim` argument to a layer. When using Sequential models, prefer using an `Input(shape)` object as the first layer in the model instead.\n",
      "  super().__init__(**kwargs)\n"
     ]
    },
    {
     "data": {
      "text/html": [
       "<pre style=\"white-space:pre;overflow-x:auto;line-height:normal;font-family:Menlo,'DejaVu Sans Mono',consolas,'Courier New',monospace\"><span style=\"font-weight: bold\">Model: \"sequential\"</span>\n",
       "</pre>\n"
      ],
      "text/plain": [
       "\u001b[1mModel: \"sequential\"\u001b[0m\n"
      ]
     },
     "metadata": {},
     "output_type": "display_data"
    },
    {
     "data": {
      "text/html": [
       "<pre style=\"white-space:pre;overflow-x:auto;line-height:normal;font-family:Menlo,'DejaVu Sans Mono',consolas,'Courier New',monospace\">┏━━━━━━━━━━━━━━━━━━━━━━━━━━━━━━━━━┳━━━━━━━━━━━━━━━━━━━━━━━━┳━━━━━━━━━━━━━━━┓\n",
       "┃<span style=\"font-weight: bold\"> Layer (type)                    </span>┃<span style=\"font-weight: bold\"> Output Shape           </span>┃<span style=\"font-weight: bold\">       Param # </span>┃\n",
       "┡━━━━━━━━━━━━━━━━━━━━━━━━━━━━━━━━━╇━━━━━━━━━━━━━━━━━━━━━━━━╇━━━━━━━━━━━━━━━┩\n",
       "│ lstm (<span style=\"color: #0087ff; text-decoration-color: #0087ff\">LSTM</span>)                     │ (<span style=\"color: #00d7ff; text-decoration-color: #00d7ff\">None</span>, <span style=\"color: #00af00; text-decoration-color: #00af00\">30</span>, <span style=\"color: #00af00; text-decoration-color: #00af00\">64</span>)         │        <span style=\"color: #00af00; text-decoration-color: #00af00\">22,784</span> │\n",
       "├─────────────────────────────────┼────────────────────────┼───────────────┤\n",
       "│ dropout (<span style=\"color: #0087ff; text-decoration-color: #0087ff\">Dropout</span>)               │ (<span style=\"color: #00d7ff; text-decoration-color: #00d7ff\">None</span>, <span style=\"color: #00af00; text-decoration-color: #00af00\">30</span>, <span style=\"color: #00af00; text-decoration-color: #00af00\">64</span>)         │             <span style=\"color: #00af00; text-decoration-color: #00af00\">0</span> │\n",
       "├─────────────────────────────────┼────────────────────────┼───────────────┤\n",
       "│ lstm_1 (<span style=\"color: #0087ff; text-decoration-color: #0087ff\">LSTM</span>)                   │ (<span style=\"color: #00d7ff; text-decoration-color: #00d7ff\">None</span>, <span style=\"color: #00af00; text-decoration-color: #00af00\">32</span>)             │        <span style=\"color: #00af00; text-decoration-color: #00af00\">12,416</span> │\n",
       "├─────────────────────────────────┼────────────────────────┼───────────────┤\n",
       "│ dropout_1 (<span style=\"color: #0087ff; text-decoration-color: #0087ff\">Dropout</span>)             │ (<span style=\"color: #00d7ff; text-decoration-color: #00d7ff\">None</span>, <span style=\"color: #00af00; text-decoration-color: #00af00\">32</span>)             │             <span style=\"color: #00af00; text-decoration-color: #00af00\">0</span> │\n",
       "├─────────────────────────────────┼────────────────────────┼───────────────┤\n",
       "│ dense (<span style=\"color: #0087ff; text-decoration-color: #0087ff\">Dense</span>)                   │ (<span style=\"color: #00d7ff; text-decoration-color: #00d7ff\">None</span>, <span style=\"color: #00af00; text-decoration-color: #00af00\">1</span>)              │            <span style=\"color: #00af00; text-decoration-color: #00af00\">33</span> │\n",
       "└─────────────────────────────────┴────────────────────────┴───────────────┘\n",
       "</pre>\n"
      ],
      "text/plain": [
       "┏━━━━━━━━━━━━━━━━━━━━━━━━━━━━━━━━━┳━━━━━━━━━━━━━━━━━━━━━━━━┳━━━━━━━━━━━━━━━┓\n",
       "┃\u001b[1m \u001b[0m\u001b[1mLayer (type)                   \u001b[0m\u001b[1m \u001b[0m┃\u001b[1m \u001b[0m\u001b[1mOutput Shape          \u001b[0m\u001b[1m \u001b[0m┃\u001b[1m \u001b[0m\u001b[1m      Param #\u001b[0m\u001b[1m \u001b[0m┃\n",
       "┡━━━━━━━━━━━━━━━━━━━━━━━━━━━━━━━━━╇━━━━━━━━━━━━━━━━━━━━━━━━╇━━━━━━━━━━━━━━━┩\n",
       "│ lstm (\u001b[38;5;33mLSTM\u001b[0m)                     │ (\u001b[38;5;45mNone\u001b[0m, \u001b[38;5;34m30\u001b[0m, \u001b[38;5;34m64\u001b[0m)         │        \u001b[38;5;34m22,784\u001b[0m │\n",
       "├─────────────────────────────────┼────────────────────────┼───────────────┤\n",
       "│ dropout (\u001b[38;5;33mDropout\u001b[0m)               │ (\u001b[38;5;45mNone\u001b[0m, \u001b[38;5;34m30\u001b[0m, \u001b[38;5;34m64\u001b[0m)         │             \u001b[38;5;34m0\u001b[0m │\n",
       "├─────────────────────────────────┼────────────────────────┼───────────────┤\n",
       "│ lstm_1 (\u001b[38;5;33mLSTM\u001b[0m)                   │ (\u001b[38;5;45mNone\u001b[0m, \u001b[38;5;34m32\u001b[0m)             │        \u001b[38;5;34m12,416\u001b[0m │\n",
       "├─────────────────────────────────┼────────────────────────┼───────────────┤\n",
       "│ dropout_1 (\u001b[38;5;33mDropout\u001b[0m)             │ (\u001b[38;5;45mNone\u001b[0m, \u001b[38;5;34m32\u001b[0m)             │             \u001b[38;5;34m0\u001b[0m │\n",
       "├─────────────────────────────────┼────────────────────────┼───────────────┤\n",
       "│ dense (\u001b[38;5;33mDense\u001b[0m)                   │ (\u001b[38;5;45mNone\u001b[0m, \u001b[38;5;34m1\u001b[0m)              │            \u001b[38;5;34m33\u001b[0m │\n",
       "└─────────────────────────────────┴────────────────────────┴───────────────┘\n"
      ]
     },
     "metadata": {},
     "output_type": "display_data"
    },
    {
     "data": {
      "text/html": [
       "<pre style=\"white-space:pre;overflow-x:auto;line-height:normal;font-family:Menlo,'DejaVu Sans Mono',consolas,'Courier New',monospace\"><span style=\"font-weight: bold\"> Total params: </span><span style=\"color: #00af00; text-decoration-color: #00af00\">35,233</span> (137.63 KB)\n",
       "</pre>\n"
      ],
      "text/plain": [
       "\u001b[1m Total params: \u001b[0m\u001b[38;5;34m35,233\u001b[0m (137.63 KB)\n"
      ]
     },
     "metadata": {},
     "output_type": "display_data"
    },
    {
     "data": {
      "text/html": [
       "<pre style=\"white-space:pre;overflow-x:auto;line-height:normal;font-family:Menlo,'DejaVu Sans Mono',consolas,'Courier New',monospace\"><span style=\"font-weight: bold\"> Trainable params: </span><span style=\"color: #00af00; text-decoration-color: #00af00\">35,233</span> (137.63 KB)\n",
       "</pre>\n"
      ],
      "text/plain": [
       "\u001b[1m Trainable params: \u001b[0m\u001b[38;5;34m35,233\u001b[0m (137.63 KB)\n"
      ]
     },
     "metadata": {},
     "output_type": "display_data"
    },
    {
     "data": {
      "text/html": [
       "<pre style=\"white-space:pre;overflow-x:auto;line-height:normal;font-family:Menlo,'DejaVu Sans Mono',consolas,'Courier New',monospace\"><span style=\"font-weight: bold\"> Non-trainable params: </span><span style=\"color: #00af00; text-decoration-color: #00af00\">0</span> (0.00 B)\n",
       "</pre>\n"
      ],
      "text/plain": [
       "\u001b[1m Non-trainable params: \u001b[0m\u001b[38;5;34m0\u001b[0m (0.00 B)\n"
      ]
     },
     "metadata": {},
     "output_type": "display_data"
    },
    {
     "name": "stdout",
     "output_type": "stream",
     "text": [
      "🚀 Training LSTM model with asymmetric PHM08 loss...\n",
      "Epoch 1/50\n",
      "\u001b[1m222/222\u001b[0m \u001b[32m━━━━━━━━━━━━━━━━━━━━\u001b[0m\u001b[37m\u001b[0m \u001b[1m6s\u001b[0m 18ms/step - loss: 98143072.0000 - mean_absolute_error: 87.3270 - val_loss: 82701952.0000 - val_mean_absolute_error: 97.9332\n",
      "Epoch 2/50\n",
      "\u001b[1m222/222\u001b[0m \u001b[32m━━━━━━━━━━━━━━━━━━━━\u001b[0m\u001b[37m\u001b[0m \u001b[1m4s\u001b[0m 18ms/step - loss: 64393912.0000 - mean_absolute_error: 81.6007 - val_loss: 69181888.0000 - val_mean_absolute_error: 95.8695\n",
      "Epoch 3/50\n",
      "\u001b[1m222/222\u001b[0m \u001b[32m━━━━━━━━━━━━━━━━━━━━\u001b[0m\u001b[37m\u001b[0m \u001b[1m5s\u001b[0m 21ms/step - loss: 47565720.0000 - mean_absolute_error: 80.6471 - val_loss: 59640056.0000 - val_mean_absolute_error: 94.1984\n",
      "Epoch 4/50\n",
      "\u001b[1m222/222\u001b[0m \u001b[32m━━━━━━━━━━━━━━━━━━━━\u001b[0m\u001b[37m\u001b[0m \u001b[1m4s\u001b[0m 19ms/step - loss: 42382556.0000 - mean_absolute_error: 78.8333 - val_loss: 52416320.0000 - val_mean_absolute_error: 92.7781\n",
      "Epoch 5/50\n",
      "\u001b[1m222/222\u001b[0m \u001b[32m━━━━━━━━━━━━━━━━━━━━\u001b[0m\u001b[37m\u001b[0m \u001b[1m4s\u001b[0m 18ms/step - loss: 49044548.0000 - mean_absolute_error: 78.6192 - val_loss: 46059420.0000 - val_mean_absolute_error: 91.3851\n",
      "Epoch 6/50\n",
      "\u001b[1m222/222\u001b[0m \u001b[32m━━━━━━━━━━━━━━━━━━━━\u001b[0m\u001b[37m\u001b[0m \u001b[1m4s\u001b[0m 18ms/step - loss: 45219072.0000 - mean_absolute_error: 76.9626 - val_loss: 40657396.0000 - val_mean_absolute_error: 90.0687\n",
      "Epoch 7/50\n",
      "\u001b[1m222/222\u001b[0m \u001b[32m━━━━━━━━━━━━━━━━━━━━\u001b[0m\u001b[37m\u001b[0m \u001b[1m4s\u001b[0m 18ms/step - loss: 26217632.0000 - mean_absolute_error: 74.9058 - val_loss: 36448692.0000 - val_mean_absolute_error: 88.9405\n",
      "Epoch 8/50\n",
      "\u001b[1m222/222\u001b[0m \u001b[32m━━━━━━━━━━━━━━━━━━━━\u001b[0m\u001b[37m\u001b[0m \u001b[1m4s\u001b[0m 17ms/step - loss: 31991870.0000 - mean_absolute_error: 73.8804 - val_loss: 32330392.0000 - val_mean_absolute_error: 87.7256\n",
      "Epoch 9/50\n",
      "\u001b[1m222/222\u001b[0m \u001b[32m━━━━━━━━━━━━━━━━━━━━\u001b[0m\u001b[37m\u001b[0m \u001b[1m4s\u001b[0m 17ms/step - loss: 30123964.0000 - mean_absolute_error: 72.6168 - val_loss: 29167462.0000 - val_mean_absolute_error: 86.7046\n",
      "Epoch 10/50\n",
      "\u001b[1m222/222\u001b[0m \u001b[32m━━━━━━━━━━━━━━━━━━━━\u001b[0m\u001b[37m\u001b[0m \u001b[1m4s\u001b[0m 19ms/step - loss: 28211374.0000 - mean_absolute_error: 71.7752 - val_loss: 26406518.0000 - val_mean_absolute_error: 85.7363\n",
      "Epoch 11/50\n",
      "\u001b[1m222/222\u001b[0m \u001b[32m━━━━━━━━━━━━━━━━━━━━\u001b[0m\u001b[37m\u001b[0m \u001b[1m4s\u001b[0m 17ms/step - loss: 24285402.0000 - mean_absolute_error: 70.6395 - val_loss: 23986722.0000 - val_mean_absolute_error: 84.8167\n",
      "Epoch 12/50\n",
      "\u001b[1m222/222\u001b[0m \u001b[32m━━━━━━━━━━━━━━━━━━━━\u001b[0m\u001b[37m\u001b[0m \u001b[1m4s\u001b[0m 17ms/step - loss: 17754132.0000 - mean_absolute_error: 69.7224 - val_loss: 21645304.0000 - val_mean_absolute_error: 83.8526\n",
      "Epoch 13/50\n",
      "\u001b[1m222/222\u001b[0m \u001b[32m━━━━━━━━━━━━━━━━━━━━\u001b[0m\u001b[37m\u001b[0m \u001b[1m4s\u001b[0m 18ms/step - loss: 17753104.0000 - mean_absolute_error: 68.6940 - val_loss: 19795642.0000 - val_mean_absolute_error: 83.0305\n",
      "Epoch 14/50\n",
      "\u001b[1m222/222\u001b[0m \u001b[32m━━━━━━━━━━━━━━━━━━━━\u001b[0m\u001b[37m\u001b[0m \u001b[1m4s\u001b[0m 19ms/step - loss: 11990099.0000 - mean_absolute_error: 68.4704 - val_loss: 17949296.0000 - val_mean_absolute_error: 82.1455\n",
      "Epoch 15/50\n",
      "\u001b[1m222/222\u001b[0m \u001b[32m━━━━━━━━━━━━━━━━━━━━\u001b[0m\u001b[37m\u001b[0m \u001b[1m4s\u001b[0m 17ms/step - loss: 9523478.0000 - mean_absolute_error: 67.4899 - val_loss: 16479863.0000 - val_mean_absolute_error: 81.3874\n",
      "Epoch 16/50\n",
      "\u001b[1m222/222\u001b[0m \u001b[32m━━━━━━━━━━━━━━━━━━━━\u001b[0m\u001b[37m\u001b[0m \u001b[1m4s\u001b[0m 17ms/step - loss: 9282335.0000 - mean_absolute_error: 66.5116 - val_loss: 14902947.0000 - val_mean_absolute_error: 80.5101\n",
      "Epoch 17/50\n",
      "\u001b[1m222/222\u001b[0m \u001b[32m━━━━━━━━━━━━━━━━━━━━\u001b[0m\u001b[37m\u001b[0m \u001b[1m4s\u001b[0m 18ms/step - loss: 10299826.0000 - mean_absolute_error: 65.8410 - val_loss: 13635821.0000 - val_mean_absolute_error: 79.7510\n",
      "Epoch 18/50\n",
      "\u001b[1m222/222\u001b[0m \u001b[32m━━━━━━━━━━━━━━━━━━━━\u001b[0m\u001b[37m\u001b[0m \u001b[1m4s\u001b[0m 18ms/step - loss: 11969589.0000 - mean_absolute_error: 65.3058 - val_loss: 12487966.0000 - val_mean_absolute_error: 79.0129\n",
      "Epoch 19/50\n",
      "\u001b[1m222/222\u001b[0m \u001b[32m━━━━━━━━━━━━━━━━━━━━\u001b[0m\u001b[37m\u001b[0m \u001b[1m4s\u001b[0m 18ms/step - loss: 11774055.0000 - mean_absolute_error: 64.2637 - val_loss: 11469486.0000 - val_mean_absolute_error: 78.3113\n",
      "Epoch 20/50\n",
      "\u001b[1m222/222\u001b[0m \u001b[32m━━━━━━━━━━━━━━━━━━━━\u001b[0m\u001b[37m\u001b[0m \u001b[1m4s\u001b[0m 17ms/step - loss: 10629813.0000 - mean_absolute_error: 64.1002 - val_loss: 10466393.0000 - val_mean_absolute_error: 77.5702\n",
      "Epoch 21/50\n",
      "\u001b[1m222/222\u001b[0m \u001b[32m━━━━━━━━━━━━━━━━━━━━\u001b[0m\u001b[37m\u001b[0m \u001b[1m4s\u001b[0m 18ms/step - loss: 8071847.0000 - mean_absolute_error: 63.0055 - val_loss: 9667318.0000 - val_mean_absolute_error: 76.9387\n",
      "Epoch 22/50\n",
      "\u001b[1m222/222\u001b[0m \u001b[32m━━━━━━━━━━━━━━━━━━━━\u001b[0m\u001b[37m\u001b[0m \u001b[1m4s\u001b[0m 16ms/step - loss: 6260290.0000 - mean_absolute_error: 61.6345 - val_loss: 8801821.0000 - val_mean_absolute_error: 76.2063\n",
      "Epoch 23/50\n",
      "\u001b[1m222/222\u001b[0m \u001b[32m━━━━━━━━━━━━━━━━━━━━\u001b[0m\u001b[37m\u001b[0m \u001b[1m4s\u001b[0m 16ms/step - loss: 4916594.0000 - mean_absolute_error: 61.2272 - val_loss: 8128233.0000 - val_mean_absolute_error: 75.5968\n",
      "Epoch 24/50\n",
      "\u001b[1m222/222\u001b[0m \u001b[32m━━━━━━━━━━━━━━━━━━━━\u001b[0m\u001b[37m\u001b[0m \u001b[1m4s\u001b[0m 16ms/step - loss: 8077171.5000 - mean_absolute_error: 61.1335 - val_loss: 7487795.0000 - val_mean_absolute_error: 74.9798\n",
      "Epoch 25/50\n",
      "\u001b[1m222/222\u001b[0m \u001b[32m━━━━━━━━━━━━━━━━━━━━\u001b[0m\u001b[37m\u001b[0m \u001b[1m4s\u001b[0m 16ms/step - loss: 8267077.0000 - mean_absolute_error: 60.2760 - val_loss: 6833097.5000 - val_mean_absolute_error: 74.3060\n",
      "Epoch 26/50\n",
      "\u001b[1m222/222\u001b[0m \u001b[32m━━━━━━━━━━━━━━━━━━━━\u001b[0m\u001b[37m\u001b[0m \u001b[1m4s\u001b[0m 16ms/step - loss: 4729398.5000 - mean_absolute_error: 59.2914 - val_loss: 6331405.5000 - val_mean_absolute_error: 73.7552\n",
      "Epoch 27/50\n",
      "\u001b[1m222/222\u001b[0m \u001b[32m━━━━━━━━━━━━━━━━━━━━\u001b[0m\u001b[37m\u001b[0m \u001b[1m4s\u001b[0m 17ms/step - loss: 4792830.5000 - mean_absolute_error: 59.5417 - val_loss: 5887732.5000 - val_mean_absolute_error: 73.2395\n",
      "Epoch 28/50\n",
      "\u001b[1m222/222\u001b[0m \u001b[32m━━━━━━━━━━━━━━━━━━━━\u001b[0m\u001b[37m\u001b[0m \u001b[1m4s\u001b[0m 16ms/step - loss: 5007794.0000 - mean_absolute_error: 58.4528 - val_loss: 5397615.5000 - val_mean_absolute_error: 72.6352\n",
      "Epoch 29/50\n",
      "\u001b[1m222/222\u001b[0m \u001b[32m━━━━━━━━━━━━━━━━━━━━\u001b[0m\u001b[37m\u001b[0m \u001b[1m4s\u001b[0m 16ms/step - loss: 4222932.5000 - mean_absolute_error: 58.5341 - val_loss: 4960938.5000 - val_mean_absolute_error: 72.0608\n",
      "Epoch 30/50\n",
      "\u001b[1m222/222\u001b[0m \u001b[32m━━━━━━━━━━━━━━━━━━━━\u001b[0m\u001b[37m\u001b[0m \u001b[1m4s\u001b[0m 16ms/step - loss: 3703703.7500 - mean_absolute_error: 57.4706 - val_loss: 4562996.5000 - val_mean_absolute_error: 71.5035\n",
      "Epoch 31/50\n",
      "\u001b[1m222/222\u001b[0m \u001b[32m━━━━━━━━━━━━━━━━━━━━\u001b[0m\u001b[37m\u001b[0m \u001b[1m4s\u001b[0m 16ms/step - loss: 2832443.5000 - mean_absolute_error: 57.5242 - val_loss: 4225429.0000 - val_mean_absolute_error: 71.0016\n",
      "Epoch 32/50\n",
      "\u001b[1m222/222\u001b[0m \u001b[32m━━━━━━━━━━━━━━━━━━━━\u001b[0m\u001b[37m\u001b[0m \u001b[1m4s\u001b[0m 16ms/step - loss: 3728336.2500 - mean_absolute_error: 57.1193 - val_loss: 3884056.5000 - val_mean_absolute_error: 70.4633\n",
      "Epoch 33/50\n",
      "\u001b[1m222/222\u001b[0m \u001b[32m━━━━━━━━━━━━━━━━━━━━\u001b[0m\u001b[37m\u001b[0m \u001b[1m4s\u001b[0m 17ms/step - loss: 3303365.7500 - mean_absolute_error: 56.8096 - val_loss: 3571457.7500 - val_mean_absolute_error: 69.9391\n",
      "Epoch 34/50\n",
      "\u001b[1m222/222\u001b[0m \u001b[32m━━━━━━━━━━━━━━━━━━━━\u001b[0m\u001b[37m\u001b[0m \u001b[1m4s\u001b[0m 16ms/step - loss: 3553475.7500 - mean_absolute_error: 56.2335 - val_loss: 3295144.0000 - val_mean_absolute_error: 69.4474\n",
      "Epoch 35/50\n",
      "\u001b[1m222/222\u001b[0m \u001b[32m━━━━━━━━━━━━━━━━━━━━\u001b[0m\u001b[37m\u001b[0m \u001b[1m4s\u001b[0m 16ms/step - loss: 2325043.0000 - mean_absolute_error: 55.8734 - val_loss: 3041686.5000 - val_mean_absolute_error: 68.9696\n",
      "Epoch 36/50\n",
      "\u001b[1m222/222\u001b[0m \u001b[32m━━━━━━━━━━━━━━━━━━━━\u001b[0m\u001b[37m\u001b[0m \u001b[1m4s\u001b[0m 16ms/step - loss: 3107841.7500 - mean_absolute_error: 55.4878 - val_loss: 2807619.0000 - val_mean_absolute_error: 68.5026\n",
      "Epoch 37/50\n",
      "\u001b[1m222/222\u001b[0m \u001b[32m━━━━━━━━━━━━━━━━━━━━\u001b[0m\u001b[37m\u001b[0m \u001b[1m4s\u001b[0m 16ms/step - loss: 3423151.0000 - mean_absolute_error: 55.0336 - val_loss: 2557137.0000 - val_mean_absolute_error: 67.9709\n",
      "Epoch 38/50\n",
      "\u001b[1m222/222\u001b[0m \u001b[32m━━━━━━━━━━━━━━━━━━━━\u001b[0m\u001b[37m\u001b[0m \u001b[1m4s\u001b[0m 16ms/step - loss: 2376354.7500 - mean_absolute_error: 54.5816 - val_loss: 2355681.5000 - val_mean_absolute_error: 67.5167\n",
      "Epoch 39/50\n",
      "\u001b[1m222/222\u001b[0m \u001b[32m━━━━━━━━━━━━━━━━━━━━\u001b[0m\u001b[37m\u001b[0m \u001b[1m4s\u001b[0m 16ms/step - loss: 1957258.1250 - mean_absolute_error: 54.1540 - val_loss: 2165496.5000 - val_mean_absolute_error: 67.0632\n",
      "Epoch 40/50\n",
      "\u001b[1m222/222\u001b[0m \u001b[32m━━━━━━━━━━━━━━━━━━━━\u001b[0m\u001b[37m\u001b[0m \u001b[1m4s\u001b[0m 16ms/step - loss: 2518888.2500 - mean_absolute_error: 53.8658 - val_loss: 1989311.5000 - val_mean_absolute_error: 66.6186\n",
      "Epoch 41/50\n",
      "\u001b[1m222/222\u001b[0m \u001b[32m━━━━━━━━━━━━━━━━━━━━\u001b[0m\u001b[37m\u001b[0m \u001b[1m4s\u001b[0m 16ms/step - loss: 1415981.5000 - mean_absolute_error: 53.7142 - val_loss: 1836173.8750 - val_mean_absolute_error: 66.2099\n",
      "Epoch 42/50\n",
      "\u001b[1m222/222\u001b[0m \u001b[32m━━━━━━━━━━━━━━━━━━━━\u001b[0m\u001b[37m\u001b[0m \u001b[1m4s\u001b[0m 18ms/step - loss: 1256042.3750 - mean_absolute_error: 53.0793 - val_loss: 1708565.2500 - val_mean_absolute_error: 65.8515\n",
      "Epoch 43/50\n",
      "\u001b[1m222/222\u001b[0m \u001b[32m━━━━━━━━━━━━━━━━━━━━\u001b[0m\u001b[37m\u001b[0m \u001b[1m4s\u001b[0m 18ms/step - loss: 1655860.8750 - mean_absolute_error: 53.2620 - val_loss: 1570420.5000 - val_mean_absolute_error: 65.4439\n",
      "Epoch 44/50\n",
      "\u001b[1m222/222\u001b[0m \u001b[32m━━━━━━━━━━━━━━━━━━━━\u001b[0m\u001b[37m\u001b[0m \u001b[1m4s\u001b[0m 17ms/step - loss: 1458838.2500 - mean_absolute_error: 52.5919 - val_loss: 1449248.7500 - val_mean_absolute_error: 65.0668\n",
      "Epoch 45/50\n",
      "\u001b[1m222/222\u001b[0m \u001b[32m━━━━━━━━━━━━━━━━━━━━\u001b[0m\u001b[37m\u001b[0m \u001b[1m4s\u001b[0m 19ms/step - loss: 1098388.1250 - mean_absolute_error: 51.8571 - val_loss: 1352031.0000 - val_mean_absolute_error: 64.7493\n",
      "Epoch 46/50\n",
      "\u001b[1m222/222\u001b[0m \u001b[32m━━━━━━━━━━━━━━━━━━━━\u001b[0m\u001b[37m\u001b[0m \u001b[1m4s\u001b[0m 18ms/step - loss: 1041902.5000 - mean_absolute_error: 51.8860 - val_loss: 1245956.5000 - val_mean_absolute_error: 64.3868\n",
      "Epoch 47/50\n",
      "\u001b[1m222/222\u001b[0m \u001b[32m━━━━━━━━━━━━━━━━━━━━\u001b[0m\u001b[37m\u001b[0m \u001b[1m4s\u001b[0m 19ms/step - loss: 864777.3125 - mean_absolute_error: 51.4224 - val_loss: 1145672.0000 - val_mean_absolute_error: 64.0264\n",
      "Epoch 48/50\n",
      "\u001b[1m222/222\u001b[0m \u001b[32m━━━━━━━━━━━━━━━━━━━━\u001b[0m\u001b[37m\u001b[0m \u001b[1m4s\u001b[0m 20ms/step - loss: 582312.6250 - mean_absolute_error: 50.8283 - val_loss: 1064879.1250 - val_mean_absolute_error: 63.7219\n",
      "Epoch 49/50\n",
      "\u001b[1m222/222\u001b[0m \u001b[32m━━━━━━━━━━━━━━━━━━━━\u001b[0m\u001b[37m\u001b[0m \u001b[1m4s\u001b[0m 17ms/step - loss: 856847.0000 - mean_absolute_error: 50.9874 - val_loss: 985703.2500 - val_mean_absolute_error: 63.4103\n",
      "Epoch 50/50\n",
      "\u001b[1m222/222\u001b[0m \u001b[32m━━━━━━━━━━━━━━━━━━━━\u001b[0m\u001b[37m\u001b[0m \u001b[1m4s\u001b[0m 16ms/step - loss: 642536.8750 - mean_absolute_error: 51.1336 - val_loss: 915282.3750 - val_mean_absolute_error: 63.1208\n"
     ]
    },
    {
     "data": {
      "image/png": "[encoded data removed]",
      "text/plain": [
       "<Figure size 640x480 with 1 Axes>"
      ]
     },
     "metadata": {},
     "output_type": "display_data"
    },
    {
     "name": "stderr",
     "output_type": "stream",
     "text": [
      "WARNING:absl:You are saving your model as an HDF5 file via `model.save()` or `keras.saving.save_model(model)`. This file format is considered legacy. We recommend using instead the native Keras format, e.g. `model.save('my_model.keras')` or `keras.saving.save_model(model, 'my_model.keras')`. \n"
     ]
    },
    {
     "name": "stdout",
     "output_type": "stream",
     "text": [
      "💾 Model saved as 'rul_lstm_phm08.h5'\n"
     ]
    }
   ],
   "source": [
    "import pandas as pd\n",
    "import numpy as np\n",
    "from sklearn.preprocessing import MinMaxScaler\n",
    "from tensorflow.keras.models import Sequential\n",
    "from tensorflow.keras.layers import LSTM, Dense, Dropout\n",
    "from tensorflow.keras.optimizers import Adam\n",
    "import tensorflow.keras.backend as K\n",
    "import tensorflow as tf\n",
    "import matplotlib.pyplot as plt\n",
    "import os\n",
    "\n",
    "# -----------------------------\n",
    "# 1. Constants and Configs\n",
    "# -----------------------------\n",
    "SEQUENCE_LENGTH = 30\n",
    "DATA_PATH = \"CMaps/train_FD001.txt\"\n",
    "OP_COLS = [\"op1\", \"op2\", \"op3\"]\n",
    "SENSOR_COLS = [f\"sensor{i}\" for i in range(1, 22)]  # sensors 1 to 21\n",
    "ALL_COLUMNS = [\"unit\", \"time_cycles\"] + OP_COLS + SENSOR_COLS\n",
    "\n",
    "\n",
    "# -----------------------------\n",
    "# 2. Custom Asymmetric PHM08 Loss\n",
    "# -----------------------------\n",
    "def asymmetric_loss(y_true, y_pred):\n",
    "    error = y_pred - y_true\n",
    "    mask = K.cast(K.less(error, 0.0), K.floatx())\n",
    "    loss_early = K.exp(-error / 13.0) - 1.0\n",
    "    loss_late = K.exp(error / 10.0) - 1.0\n",
    "    return K.mean(mask * loss_early + (1 - mask) * loss_late)\n",
    "\n",
    "\n",
    "# -----------------------------\n",
    "# 3. Load and Preprocess Data\n",
    "# -----------------------------\n",
    "def load_and_preprocess_data(filepath):\n",
    "    df = pd.read_csv(filepath, sep=\"\\s+\", header=None, names=ALL_COLUMNS)\n",
    "\n",
    "    # Compute RUL\n",
    "    df[\"max_cycle\"] = df.groupby(\"unit\")[\"time_cycles\"].transform(\"max\")\n",
    "    df[\"RUL\"] = df[\"max_cycle\"] - df[\"time_cycles\"]\n",
    "    df.drop(\"max_cycle\", axis=1, inplace=True)\n",
    "\n",
    "    return df\n",
    "\n",
    "\n",
    "def normalize(df, feature_columns):\n",
    "    scaler = MinMaxScaler()\n",
    "    df[feature_columns] = scaler.fit_transform(df[feature_columns])\n",
    "    return df, scaler\n",
    "\n",
    "\n",
    "# -----------------------------\n",
    "# 4. Sequence Builder\n",
    "# -----------------------------\n",
    "def create_sequences(df, sequence_length, feature_columns):\n",
    "    sequences = []\n",
    "    rul_values = []\n",
    "\n",
    "    for unit in df[\"unit\"].unique():\n",
    "        unit_df = df[df[\"unit\"] == unit]\n",
    "        unit_df = unit_df.reset_index(drop=True)\n",
    "        for i in range(len(unit_df) - sequence_length + 1):\n",
    "            seq = unit_df.loc[i : i + sequence_length - 1, feature_columns].values\n",
    "            label = unit_df.loc[i + sequence_length - 1, \"RUL\"]\n",
    "            sequences.append(seq)\n",
    "            rul_values.append(label)\n",
    "\n",
    "    X = np.array(sequences)\n",
    "    y = np.array(rul_values).reshape(-1, 1)\n",
    "\n",
    "    return X, y\n",
    "\n",
    "\n",
    "# -----------------------------\n",
    "# 5. Build LSTM Model\n",
    "# -----------------------------\n",
    "def build_lstm_model(input_shape):\n",
    "    model = Sequential()\n",
    "    model.add(LSTM(64, return_sequences=True, input_shape=input_shape))\n",
    "    model.add(Dropout(0.3))\n",
    "    model.add(LSTM(32))\n",
    "    model.add(Dropout(0.3))\n",
    "    model.add(Dense(1))\n",
    "\n",
    "    model.compile(\n",
    "        optimizer=Adam(learning_rate=0.001),\n",
    "        loss=asymmetric_loss,\n",
    "        metrics=[tf.keras.metrics.MeanAbsoluteError()],\n",
    "    )\n",
    "    return model\n",
    "\n",
    "\n",
    "# -----------------------------\n",
    "# 6. Train the Model\n",
    "# -----------------------------\n",
    "def train_model(model, X_train, y_train, epochs=50, batch_size=64):\n",
    "    history = model.fit(\n",
    "        X_train,\n",
    "        y_train,\n",
    "        validation_split=0.2,\n",
    "        epochs=epochs,\n",
    "        batch_size=batch_size,\n",
    "        verbose=1,\n",
    "    )\n",
    "    return history\n",
    "\n",
    "\n",
    "# -----------------------------\n",
    "# 7. Plot Training History\n",
    "# -----------------------------\n",
    "def plot_loss(history):\n",
    "    plt.plot(history.history[\"loss\"], label=\"Train Loss\")\n",
    "    plt.plot(history.history[\"val_loss\"], label=\"Val Loss\")\n",
    "    plt.xlabel(\"Epochs\")\n",
    "    plt.ylabel(\"Loss\")\n",
    "    plt.title(\"Training Loss Curve\")\n",
    "    plt.legend()\n",
    "    plt.grid()\n",
    "    plt.show()\n",
    "\n",
    "\n",
    "# -----------------------------\n",
    "# 8. Main Runner\n",
    "# -----------------------------\n",
    "def main():\n",
    "    # Step 1: Load data\n",
    "    print(\"📥 Loading data...\")\n",
    "    df = load_and_preprocess_data(DATA_PATH)\n",
    "\n",
    "    # Step 2: Normalize features\n",
    "    feature_columns = OP_COLS + SENSOR_COLS\n",
    "    df, scaler = normalize(df, feature_columns)\n",
    "\n",
    "    # Step 3: Create sequences for LSTM\n",
    "    print(\"🔁 Creating sequences...\")\n",
    "    X, y = create_sequences(df, SEQUENCE_LENGTH, feature_columns)\n",
    "\n",
    "    print(f\"✅ Input shape to LSTM: {X.shape}\")  # Should be (samples, 30, features)\n",
    "    print(f\"✅ Target shape: {y.shape}\")  # Should be (samples, 1)\n",
    "\n",
    "    # Step 4: Build model\n",
    "    model = build_lstm_model(input_shape=(SEQUENCE_LENGTH, len(feature_columns)))\n",
    "    model.summary()\n",
    "\n",
    "    # Step 5: Train\n",
    "    print(\"🚀 Training LSTM model with asymmetric PHM08 loss...\")\n",
    "    history = train_model(model, X, y)\n",
    "\n",
    "    # Step 6: Visualize\n",
    "    plot_loss(history)\n",
    "\n",
    "    # Step 7: Save\n",
    "    model.save(\"rul_lstm_phm08.h5\")\n",
    "    print(\"💾 Model saved as 'rul_lstm_phm08.h5'\")\n",
    "\n",
    "\n",
    "# -----------------------------\n",
    "# 9. Run Main\n",
    "# -----------------------------\n",
    "if __name__ == \"__main__\":\n",
    "    main()"
   ]
  },
  {
   "cell_type": "code",
   "execution_count": null,
   "id": "578814a0",
   "metadata": {},
   "outputs": [
    {
     "ename": "NameError",
     "evalue": "name 'X' is not defined",
     "output_type": "error",
     "traceback": [
      "\u001b[1;31m---------------------------------------------------------------------------\u001b[0m",
      "\u001b[1;31mNameError\u001b[0m                                 Traceback (most recent call last)",
      "Cell \u001b[1;32mIn[7], line 1\u001b[0m\n\u001b[1;32m----> 1\u001b[0m model \u001b[38;5;241m=\u001b[39m build_lstm_model(input_shape\u001b[38;5;241m=\u001b[39m(\u001b[43mX\u001b[49m\u001b[38;5;241m.\u001b[39mshape[\u001b[38;5;241m1\u001b[39m], X\u001b[38;5;241m.\u001b[39mshape[\u001b[38;5;241m2\u001b[39m]))\n",
      "\u001b[1;31mNameError\u001b[0m: name 'X' is not defined"
     ]
    }
   ],
   "source": []
  },
  {
   "cell_type": "code",
   "execution_count": null,
   "id": "224f5668",
   "metadata": {},
   "outputs": [],
   "source": []
  }
 ],
 "metadata": {
  "kernelspec": {
   "display_name": "tf_rul",
   "language": "python",
   "name": "python3"
  },
  "language_info": {
   "codemirror_mode": {
    "name": "ipython",
    "version": 3
   },
   "file_extension": ".py",
   "mimetype": "text/x-python",
   "name": "python",
   "nbconvert_exporter": "python",
   "pygments_lexer": "ipython3",
   "version": "3.10.0"
  }
 },
 "nbformat": 4,
 "nbformat_minor": 5
}
